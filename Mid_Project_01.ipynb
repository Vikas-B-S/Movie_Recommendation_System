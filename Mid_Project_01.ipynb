{
 "cells": [
  {
   "cell_type": "code",
   "execution_count": null,
   "metadata": {},
   "outputs": [],
   "source": [
    "import pandas as pd\n",
    "import matplotlib.pyplot as plt\n",
    "import seaborn as sns"
   ]
  },
  {
   "cell_type": "code",
   "execution_count": null,
   "metadata": {},
   "outputs": [],
   "source": [
    "mov=pd.read_csv(\"movies.csv\")\n",
    "rat=pd.read_csv(\"ratings.csv\")"
   ]
  },
  {
   "cell_type": "code",
   "execution_count": null,
   "metadata": {},
   "outputs": [],
   "source": [
    "mov.head()"
   ]
  },
  {
   "cell_type": "code",
   "execution_count": null,
   "metadata": {},
   "outputs": [],
   "source": [
    "rat.head()"
   ]
  },
  {
   "cell_type": "markdown",
   "metadata": {},
   "source": [
    "# Exploratory Data Analysis\n"
   ]
  },
  {
   "cell_type": "markdown",
   "metadata": {},
   "source": []
  },
  {
   "cell_type": "code",
   "execution_count": null,
   "metadata": {},
   "outputs": [],
   "source": [
    "mov.info()"
   ]
  },
  {
   "cell_type": "code",
   "execution_count": null,
   "metadata": {},
   "outputs": [],
   "source": [
    "rat.info()"
   ]
  },
  {
   "cell_type": "markdown",
   "metadata": {},
   "source": [
    "** No null values in both movies and ratings files"
   ]
  },
  {
   "cell_type": "code",
   "execution_count": null,
   "metadata": {},
   "outputs": [],
   "source": [
    "mov[mov['title'].duplicated()]"
   ]
  },
  {
   "cell_type": "code",
   "execution_count": null,
   "metadata": {},
   "outputs": [],
   "source": [
    "mov.drop(mov.loc[mov['movieId']==26982].index,inplace=True)\n",
    "mov.drop(mov.loc[mov['movieId']==64997].index,inplace=True)\n"
   ]
  },
  {
   "cell_type": "code",
   "execution_count": null,
   "metadata": {},
   "outputs": [],
   "source": [
    "mov.nunique()"
   ]
  },
  {
   "cell_type": "code",
   "execution_count": null,
   "metadata": {},
   "outputs": [],
   "source": [
    "fd=pd.merge(mov,rat,how='left',on='movieId')\n",
    "fd.drop('timestamp',axis=1,inplace=True)\n",
    "fd"
   ]
  },
  {
   "cell_type": "code",
   "execution_count": null,
   "metadata": {},
   "outputs": [],
   "source": [
    "fd.drop_duplicates(inplace=True)\n",
    "fd"
   ]
  },
  {
   "cell_type": "code",
   "execution_count": null,
   "metadata": {},
   "outputs": [],
   "source": [
    "fd.info()"
   ]
  },
  {
   "cell_type": "code",
   "execution_count": null,
   "metadata": {},
   "outputs": [],
   "source": [
    "fd.describe()"
   ]
  },
  {
   "cell_type": "markdown",
   "metadata": {},
   "source": [
    " Highest Rated Movie\n"
   ]
  },
  {
   "cell_type": "code",
   "execution_count": null,
   "metadata": {},
   "outputs": [],
   "source": [
    "fd.head(2)"
   ]
  },
  {
   "cell_type": "code",
   "execution_count": null,
   "metadata": {},
   "outputs": [],
   "source": [
    "high_rate_movie = fd[['title','rating']].groupby('title')['rating'].sum().sort_values(ascending=False)\n",
    "high_rate_movie.head(10)\n",
    "Top10=high_rate_movie.nlargest(10)\n",
    "Top10"
   ]
  },
  {
   "cell_type": "code",
   "execution_count": null,
   "metadata": {},
   "outputs": [],
   "source": [
    "plt.figure(figsize=(30,10))\n",
    "plt.bar(Top10.index,Top10.values)\n",
    "plt.title('Top 10 highly rated movies',fontsize=20)\n",
    "plt.xlabel('Movie Names',fontsize=20)\n",
    "plt.xticks(fontsize=15,rotation=90)\n",
    "plt.yticks(fontsize=15)\n",
    "plt.ylabel('Ratings Sum',fontsize=20)\n",
    "plt.show"
   ]
  },
  {
   "cell_type": "markdown",
   "metadata": {},
   "source": [
    "Number of ratings for each movie"
   ]
  },
  {
   "cell_type": "code",
   "execution_count": null,
   "metadata": {},
   "outputs": [],
   "source": [
    "no_rat=fd.groupby('title')['rating'].count().sort_values(ascending=False)\n",
    "Top10_rat=no_rat.nlargest(10)\n",
    "Top10_rat"
   ]
  },
  {
   "cell_type": "code",
   "execution_count": null,
   "metadata": {},
   "outputs": [],
   "source": [
    "plt.figure(figsize=(30,10))\n",
    "plt.bar(Top10_rat.index,Top10_rat.values)\n",
    "plt.title('Top 10 most rated movies',fontsize=20)\n",
    "plt.xlabel('Movie Names',fontsize=20)\n",
    "plt.xticks(fontsize=15,rotation=90)\n",
    "plt.yticks(fontsize=15)\n",
    "plt.ylabel('Number of Ratings',fontsize=20)\n",
    "plt.show"
   ]
  },
  {
   "cell_type": "markdown",
   "metadata": {},
   "source": [
    "# Creation of Recommendation System\n"
   ]
  },
  {
   "cell_type": "markdown",
   "metadata": {},
   "source": [
    "Popularity Based Recommendation System at Genre Level"
   ]
  },
  {
   "cell_type": "code",
   "execution_count": null,
   "metadata": {},
   "outputs": [],
   "source": [
    "fd.info()"
   ]
  },
  {
   "cell_type": "code",
   "execution_count": null,
   "metadata": {},
   "outputs": [],
   "source": [
    "def popularity_recommender(genre, min_reviews, num_recommendations):\n",
    "    genre_movies = fd[(fd['genres'] == genre) & (fd['rating'] >= min_reviews)]\n",
    "    \n",
    "    if genre_movies.empty:\n",
    "        return \"No movies found for the given genre and minimum review threshold.\"\n",
    "    \n",
    "    sorted_movies = genre_movies.sort_values(by='rating', ascending=False)\n",
    "  \n",
    "    top_movies = sorted_movies.head(num_recommendations)\n",
    "    \n",
    "    return top_movies[['title', 'rating', 'userId']]\n"
   ]
  },
  {
   "cell_type": "code",
   "execution_count": null,
   "metadata": {},
   "outputs": [],
   "source": [
    "fd['genres'].value_counts()"
   ]
  },
  {
   "cell_type": "code",
   "execution_count": null,
   "metadata": {},
   "outputs": [],
   "source": [
    "genre='Drama|Romance'\n",
    "min_reviews=5\n",
    "num_recommendations=3\n",
    "\n",
    "Top=popularity_recommender(genre, min_reviews, num_recommendations)\n",
    "Top"
   ]
  },
  {
   "cell_type": "code",
   "execution_count": null,
   "metadata": {},
   "outputs": [],
   "source": [
    "fd.head()"
   ]
  },
  {
   "cell_type": "markdown",
   "metadata": {},
   "source": [
    "Collaborative based recommender system which recommends top N movies based on “K” similar users for a target user “u\""
   ]
  },
  {
   "cell_type": "code",
   "execution_count": null,
   "metadata": {},
   "outputs": [],
   "source": [
    "from sklearn.metrics.pairwise import cosine_similarity\n",
    "from sklearn.neighbors import NearestNeighbors\n",
    "\n",
    "\n",
    "user_movie_matrix = fd.pivot_table(index='userId', columns='title', values='rating').fillna(0)\n",
    "\n",
    "\n",
    "knn_model = NearestNeighbors(metric='cosine', algorithm='brute')\n",
    "knn_model.fit(user_movie_matrix)\n",
    "\n",
    "def collaborative_recommender(user_id, num_recommendations, k):\n",
    "\n",
    "    target_user_index = user_movie_matrix.index.get_loc(user_id)\n",
    "\n",
    "    _, similar_users_indices = knn_model.kneighbors(user_movie_matrix.iloc[target_user_index].values.reshape(1, -1), n_neighbors=k+1)\n",
    "\n",
    "    similar_users_indices = similar_users_indices.flatten()\n",
    "\n",
    "    movies_watched = user_movie_matrix.iloc[target_user_index][user_movie_matrix.iloc[target_user_index] > 0].index.tolist()\n",
    "\n",
    "    recommended_movies = []\n",
    "    for similar_user_index in similar_users_indices:\n",
    "        similar_user_movies = user_movie_matrix.iloc[similar_user_index][user_movie_matrix.iloc[similar_user_index] > 0].index.tolist()\n",
    "        recommended_movies.extend([movie for movie in similar_user_movies if movie not in movies_watched])\n",
    "\n",
    "    recommended_movies = list(set(recommended_movies))[:num_recommendations]\n",
    "\n",
    "    return pd.DataFrame({'title': recommended_movies})\n",
    "\n",
    "\n"
   ]
  },
  {
   "cell_type": "code",
   "execution_count": null,
   "metadata": {},
   "outputs": [],
   "source": [
    "user_id=1\n",
    "num_recommendations=5\n",
    "k=100\n",
    "Recommendations=collaborative_recommender(user_id, num_recommendations, k)\n",
    "Recommendations"
   ]
  }
 ],
 "metadata": {
  "kernelspec": {
   "display_name": "Python 3",
   "language": "python",
   "name": "python3"
  },
  "language_info": {
   "codemirror_mode": {
    "name": "ipython",
    "version": 3
   },
   "file_extension": ".py",
   "mimetype": "text/x-python",
   "name": "python",
   "nbconvert_exporter": "python",
   "pygments_lexer": "ipython3",
   "version": "3.12.5"
  }
 },
 "nbformat": 4,
 "nbformat_minor": 2
}
